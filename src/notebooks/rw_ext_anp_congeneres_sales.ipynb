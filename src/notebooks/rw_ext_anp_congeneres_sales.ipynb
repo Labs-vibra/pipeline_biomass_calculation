{
 "cells": [
  {
   "cell_type": "markdown",
   "id": "003d0a1f",
   "metadata": {},
   "source": [
    "# Extract congeneres sales data\n",
    "Extracts congeneres data from ANP page, downloads the ZIP file if available, and save it in BiqQuery."
   ]
  },
  {
   "cell_type": "code",
   "execution_count": 1,
   "id": "74c66fca",
   "metadata": {},
   "outputs": [],
   "source": [
    "import re\n",
    "import os\n",
    "import requests\n",
    "import zipfile\n",
    "import pandas as pd\n",
    "from bs4 import BeautifulSoup\n",
    "from io import BytesIO\n",
    "from datetime import date\n",
    "from google.cloud import bigquery"
   ]
  },
  {
   "cell_type": "code",
   "execution_count": null,
   "id": "57f2fc1c",
   "metadata": {},
   "outputs": [],
   "source": [
    "URL = \"https://www.gov.br/anp/pt-br/centrais-de-conteudo/paineis-dinamicos-da-anp/paineis-dinamicos-do-abastecimento/painel-dinamico-da-logistica-do-abastecimento-nacional-de-combustiveis\""
   ]
  },
  {
   "cell_type": "code",
   "execution_count": 3,
   "id": "f4132634",
   "metadata": {},
   "outputs": [
    {
     "name": "stderr",
     "output_type": "stream",
     "text": [
      "/home/fnascime/labs_vibra/pipeline_extracts/.venv/lib/python3.12/site-packages/urllib3/connectionpool.py:1097: InsecureRequestWarning: Unverified HTTPS request is being made to host 'www.gov.br'. Adding certificate verification is strongly advised. See: https://urllib3.readthedocs.io/en/latest/advanced-usage.html#tls-warnings\n",
      "  warnings.warn(\n",
      "/home/fnascime/labs_vibra/pipeline_extracts/.venv/lib/python3.12/site-packages/urllib3/connectionpool.py:1097: InsecureRequestWarning: Unverified HTTPS request is being made to host 'www.gov.br'. Adding certificate verification is strongly advised. See: https://urllib3.readthedocs.io/en/latest/advanced-usage.html#tls-warnings\n",
      "  warnings.warn(\n"
     ]
    }
   ],
   "source": [
    "response = requests.get(URL, verify=False)\n",
    "if response.status_code == 200:\n",
    "    page = BeautifulSoup(response.content, \"html.parser\")\n",
    "else:\n",
    "    print(f\"Failed to retrieve data: {response.status_code}\")\n",
    "\n",
    "\n",
    "pattern = re.compile(r\"Consulte\\s+aqu.*Logística\", re.IGNORECASE)\n",
    "a_tag = page.find('a', string=pattern)\n",
    "if a_tag and 'href' in a_tag.attrs:\n",
    "\n",
    "    link = a_tag['href']\n",
    "    text = a_tag.get_text(strip=True)\n",
    "    li_text = a_tag.get_text(strip=True)\n",
    "\n",
    "    panel = {\n",
    "        'text': text,\n",
    "        'link': link,\n",
    "    }\n",
    "else:\n",
    "    panel = None\n",
    "\n",
    "\n",
    "data_link = page.find('a', string='Veja também a base dados do painel')\n",
    "if data_link and 'href' in data_link.attrs:\n",
    "    link = data_link['href']\n",
    "    text = data_link.get_text(strip=True)\n",
    "\n",
    "    updated_data = data_link.next_sibling\n",
    "    if updated_data:\n",
    "        li_text = updated_data.get_text(strip=True).split(\"em \")[1][0:-1].strip()\n",
    "    else:\n",
    "        li_text = \"Data não disponível\"\n",
    "\n",
    "    data = {\n",
    "        'text': text,\n",
    "        'link': link,\n",
    "        'updated_date': li_text\n",
    "    }\n",
    "else:\n",
    "    data = None\n",
    "\n",
    "\n",
    "if data and data.get('link'):\n",
    "    file_link_to_upload = data.get('link')\n",
    "\n",
    "    response = requests.get(file_link_to_upload, verify=False)\n",
    "    response.raise_for_status()\n",
    "    zip_bytes = BytesIO(response.content)\n",
    "    file_name = \"logistics.zip\"\n",
    "else:\n",
    "    print(\"No data link found.\")\n"
   ]
  },
  {
   "cell_type": "code",
   "execution_count": 4,
   "id": "5ecdca48",
   "metadata": {},
   "outputs": [],
   "source": [
    "\"\"\"\n",
    "Read the congeneres sales data from a zip file and convert it to a DataFrame.\n",
    "\"\"\"\n",
    "\n",
    "with zipfile.ZipFile(zip_bytes) as zf:\n",
    "    for file_info in zf.infolist():\n",
    "        with zf.open(file_info) as file:\n",
    "            file_name = file_info.filename\n",
    "            if file_name == \"DADOS ABERTOS - LOGISTICA 03 - VENDAS CONG╥NERES DE DISTRIBUIDORES.csv\":\n",
    "                df = pd.read_csv(file, sep=\";\", encoding=\"latin1\")\n",
    "                break"
   ]
  },
  {
   "cell_type": "code",
   "execution_count": 5,
   "id": "31b5be67",
   "metadata": {},
   "outputs": [],
   "source": [
    "\"\"\"\n",
    "Process the DataFrame to rename columns and convert data types.\n",
    "\"\"\"\n",
    "\n",
    "df = df.rename(columns={\n",
    "\t\"Período\": \"periodo\",\n",
    "\t\"Produto\": \"produto\",\n",
    "\t\"UF Origem\": \"uf_origem\",\n",
    "\t\"UF Destino\": \"uf_destino\",\n",
    "\t\"Vendedor\": \"vendedor\",\n",
    "\t\"Comprador\": \"comprador\",\n",
    "\t\"Qtd  Produto Líquido\": \"qtd_produto_liquido\",\n",
    "})\n",
    "\n",
    "df['periodo'] = pd.to_datetime(df['periodo'], format='%Y/%m').dt.date\n",
    "df['qtd_produto_liquido'] = df['qtd_produto_liquido'].astype(float)\n",
    "df['data_criacao'] = pd.Timestamp.now(tz='America/Sao_Paulo')\n"
   ]
  },
  {
   "cell_type": "code",
   "execution_count": null,
   "id": "45af932b",
   "metadata": {},
   "outputs": [
    {
     "name": "stdout",
     "output_type": "stream",
     "text": [
      "Inserting data for partition: 20250716\n"
     ]
    },
    {
     "name": "stderr",
     "output_type": "stream",
     "text": [
      "/home/fnascime/labs_vibra/pipeline_extracts/.venv/lib/python3.12/site-packages/google/cloud/bigquery/_pandas_helpers.py:489: FutureWarning: Loading pandas DataFrame into BigQuery will require pandas-gbq package version 0.26.1 or greater in the future. Tried to import pandas-gbq and got: No module named 'pandas_gbq'\n",
      "  warnings.warn(\n"
     ]
    },
    {
     "name": "stdout",
     "output_type": "stream",
     "text": [
      "  Data for 20250716 inserted successfully.\n",
      "Data insertion completed!\n"
     ]
    }
   ],
   "source": [
    "\"\"\"\n",
    "    insert data into BigQuery with date-based partitioning\n",
    "\"\"\"\n",
    "\n",
    "client = bigquery.Client()\n",
    "project_id = os.getenv(\"GOOGLE_CLOUD_PROJECT\")\n",
    "bq_dataset = \"rw_ext_anp\"\n",
    "table_name = \"venda_congeneres\"\n",
    "\n",
    "table_id = f\"{project_id}.{bq_dataset}.{table_name}\"\n",
    "\n",
    "job_config = bigquery.LoadJobConfig(\n",
    "    write_disposition=bigquery.WriteDisposition.WRITE_APPEND,\n",
    ")\n",
    "\n",
    "\n",
    "partition_key = date.today().strftime('%Y%m%d')\n",
    "\n",
    "partitioned_table_id = f\"{table_id}${partition_key}\"\n",
    "print(f\"Inserting data for partition: {partition_key}\")\n",
    "\n",
    "try:\n",
    "    job = client.load_table_from_dataframe(\n",
    "        df, partitioned_table_id, job_config=job_config\n",
    "    )\n",
    "    job.result()\n",
    "    print(f\"  Data for {partition_key} inserted successfully.\")\n",
    "except Exception as e:\n",
    "    print(f\"  Error inserting data for {partition_key}: {str(e)}\")\n",
    "\n",
    "print(\"Data insertion completed!\")"
   ]
  }
 ],
 "metadata": {
  "kernelspec": {
   "display_name": ".venv",
   "language": "python",
   "name": "python3"
  },
  "language_info": {
   "codemirror_mode": {
    "name": "ipython",
    "version": 3
   },
   "file_extension": ".py",
   "mimetype": "text/x-python",
   "name": "python",
   "nbconvert_exporter": "python",
   "pygments_lexer": "ipython3",
   "version": "3.12.3"
  }
 },
 "nbformat": 4,
 "nbformat_minor": 5
}
