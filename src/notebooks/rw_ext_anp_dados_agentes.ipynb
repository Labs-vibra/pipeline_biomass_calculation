{
 "cells": [
  {
   "cell_type": "markdown",
   "id": "f7dcc745",
   "metadata": {},
   "source": [
    "### Códigos de Agentes Regulados\n",
    "Notebook para extração e implementação no Big Query da tabela SIMP"
   ]
  },
  {
   "cell_type": "code",
   "execution_count": 18,
   "id": "25c8f854",
   "metadata": {},
   "outputs": [],
   "source": [
    "from io import BytesIO\n",
    "from google.cloud import bigquery\n",
    "import zipfile\n",
    "import os\n",
    "import requests\n",
    "import zipfile\n",
    "import pandas as pd"
   ]
  },
  {
   "cell_type": "code",
   "execution_count": 19,
   "id": "662de2be",
   "metadata": {},
   "outputs": [],
   "source": [
    "BASE_URL = \"https://csa.anp.gov.br/downloads/manuais-isimp/Geracao-de-tabelas-ISIMP.zip\""
   ]
  },
  {
   "cell_type": "code",
   "execution_count": 20,
   "id": "068fbe4f",
   "metadata": {},
   "outputs": [
    {
     "name": "stderr",
     "output_type": "stream",
     "text": [
      "/Users/dwbessa/projects/vibra/pipeline_biomass_calculation/.venv/lib/python3.13/site-packages/urllib3/connectionpool.py:1097: InsecureRequestWarning: Unverified HTTPS request is being made to host 'csa.anp.gov.br'. Adding certificate verification is strongly advised. See: https://urllib3.readthedocs.io/en/latest/advanced-usage.html#tls-warnings\n",
      "  warnings.warn(\n"
     ]
    },
    {
     "name": "stdout",
     "output_type": "stream",
     "text": [
      "datetime64[ns]\n"
     ]
    }
   ],
   "source": [
    "response = requests.get(BASE_URL, verify=False)\n",
    "if response.status_code == 200:\n",
    "    pass\n",
    "else:\n",
    "    raise Exception(f\"Failed to download file: {response.status_code}\")\n",
    "\n",
    "with zipfile.ZipFile(BytesIO(response.content)) as z:\n",
    "    with z.open(\"T001-Codigos_agentes_regulados.xlsx\") as excel_file:\n",
    "        df = pd.read_excel(excel_file, header=1)\n",
    "df = df.rename(columns={\n",
    "    'Cod. Agente ANP': 'cod_agente_anp',\n",
    "    'Raiz CNPJ': 'raiz_cnpj', \n",
    "    'Razão Social': 'razao_social',\n",
    "    'CEP': 'cep',\n",
    "    'Endereco': 'endereco',\n",
    "    'Bairro': 'bairro',\n",
    "    'Municipio': 'municipio',\n",
    "    'Estado': 'estado',\n",
    "    'Tipo do Agente': 'tipo_do_agente',\n",
    "    'Data Inicio Validade': 'data_inicio_validade',\n",
    "    'Data Final Validade': 'data_final_validade',\n",
    "    'dataVersao': 'data_versao'\n",
    "})\n",
    "df['raiz_cnpj'] = df['raiz_cnpj'].astype(str).str.zfill(8)\n",
    "df['data_upload'] = pd.to_datetime('today')\n",
    "print(df['data_upload'].dtype)"
   ]
  },
  {
   "cell_type": "code",
   "execution_count": 21,
   "id": "7ac27563",
   "metadata": {},
   "outputs": [
    {
     "name": "stdout",
     "output_type": "stream",
     "text": [
      "  Data for labs-vibra-final.rw_ext_anp.dados_agentes inserted successfully.\n",
      "Data insertion completed!\n"
     ]
    }
   ],
   "source": [
    "\"\"\"\n",
    "Inserting data into BigQuery\n",
    "\"\"\"\n",
    "bq_client = bigquery.Client()\n",
    "project_id = os.getenv(\"GOOGLE_CLOUD_PROJECT\")\n",
    "bq_dataset = \"rw_ext_anp\"\n",
    "table_name = \"dados_agentes\"\n",
    "table_id = f\"{project_id}.{bq_dataset}.{table_name}\"\n",
    "\n",
    "job_config = bigquery.LoadJobConfig(\n",
    "    write_disposition=bigquery.WriteDisposition.WRITE_TRUNCATE,\n",
    ")\n",
    "\n",
    "try:\n",
    "    job = bq_client.load_table_from_dataframe(\n",
    "        df, table_id, job_config=job_config\n",
    "    )\n",
    "    job.result()\n",
    "    print(f\"  Data for {table_id} inserted successfully.\")\n",
    "except Exception as e:\n",
    "    print(f\"  Error inserting data for {table_id}: {str(e)}\")\n",
    "\n",
    "print(\"Data insertion completed!\")"
   ]
  }
 ],
 "metadata": {
  "kernelspec": {
   "display_name": "pipeline-biomass-calculation",
   "language": "python",
   "name": "python3"
  },
  "language_info": {
   "codemirror_mode": {
    "name": "ipython",
    "version": 3
   },
   "file_extension": ".py",
   "mimetype": "text/x-python",
   "name": "python",
   "nbconvert_exporter": "python",
   "pygments_lexer": "ipython3",
   "version": "3.13.2"
  }
 },
 "nbformat": 4,
 "nbformat_minor": 5
}
