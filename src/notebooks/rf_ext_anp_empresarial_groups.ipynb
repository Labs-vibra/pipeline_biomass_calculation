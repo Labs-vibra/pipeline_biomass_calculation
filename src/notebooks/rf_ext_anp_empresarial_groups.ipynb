{
 "cells": [
  {
   "cell_type": "code",
   "execution_count": null,
   "id": "f10d6c56",
   "metadata": {},
   "outputs": [],
   "source": [
    "from google.cloud import storage, bigquery\n",
    "import pandas as pd\n",
    "import io"
   ]
  },
  {
   "cell_type": "code",
   "execution_count": null,
   "id": "e7dc0b97",
   "metadata": {
    "tags": [
     "parameters"
    ]
   },
   "outputs": [],
   "source": [
    "\"\"\"\n",
    "    Variables and parameters for the script.\n",
    "    Replace the placeholders with your actual values.\n",
    "\"\"\"\n",
    "bucket_name = 'vibra-dtan-juridico-anp-input'\n",
    "blob_name = 'grupos_empresariais.xlsx'\n",
    "bq_dataset = 'rf_ext_anp'\n",
    "bq_table = 'grupos_empresariais'"
   ]
  },
  {
   "cell_type": "code",
   "execution_count": null,
   "id": "002fb91e",
   "metadata": {},
   "outputs": [],
   "source": [
    "\"\"\"\n",
    "    Download the Excel file from Google Cloud Storage\n",
    "\"\"\"\n",
    "storage_client = storage.Client()\n",
    "bucket = storage_client.bucket(bucket_name)\n",
    "blob = bucket.blob(blob_name)\n",
    "data = blob.download_as_bytes()\n"
   ]
  },
  {
   "cell_type": "code",
   "execution_count": null,
   "id": "1e7d1ba1",
   "metadata": {},
   "outputs": [],
   "source": [
    "\"\"\"\n",
    "    Read the Excel file into a DataFrame.\n",
    "\n",
    "    Rename the columns to match the expected schema.\n",
    "\"\"\"\n",
    "\n",
    "df = pd.read_excel(io.BytesIO(data))\n",
    "\n",
    "df = df.rename(columns={\n",
    "    \"Agente Regulado\": \"ge_nom_agente_regulado\",\n",
    "    \"Empresa\": \"ge_nom_empresa\",\n",
    "    \"Cluster\": \"ge_txt_cluster\",\n",
    "})"
   ]
  },
  {
   "cell_type": "code",
   "execution_count": null,
   "id": "042632ad",
   "metadata": {},
   "outputs": [],
   "source": [
    "\"\"\"\n",
    "    Load the DataFrame into BigQuery.\n",
    "\"\"\"\n",
    "bq_client = bigquery.Client()\n",
    "table_id = f\"{bq_client.project}.{bq_dataset}.{bq_table}\"\n",
    "job = bq_client.load_table_from_dataframe(df, table_id)\n",
    "job.result()\n"
   ]
  }
 ],
 "metadata": {
  "kernelspec": {
   "display_name": ".venv",
   "language": "python",
   "name": "python3"
  },
  "language_info": {
   "codemirror_mode": {
    "name": "ipython",
    "version": 3
   },
   "file_extension": ".py",
   "mimetype": "text/x-python",
   "name": "python",
   "nbconvert_exporter": "python",
   "pygments_lexer": "ipython3",
   "version": "3.12.3"
  }
 },
 "nbformat": 4,
 "nbformat_minor": 5
}
