{
 "cells": [
  {
   "cell_type": "code",
   "execution_count": null,
   "id": "f10d6c56",
   "metadata": {},
   "outputs": [],
   "source": [
    "from google.cloud import storage, bigquery\n",
    "import pandas as pd\n",
    "import io"
   ]
  },
  {
   "cell_type": "code",
   "execution_count": null,
   "id": "e7dc0b97",
   "metadata": {
    "tags": [
     "parameters"
    ]
   },
   "outputs": [],
   "source": [
    "\"\"\"\n",
    "    Variables and parameters for the script.\n",
    "    Replace the placeholders with your actual values.\n",
    "\"\"\"\n",
    "bucket_name = 'anp-ext-bucket-etl'\n",
    "blob_name = 'grupos_empresariais.xlsx'\n",
    "bq_dataset = 'rf_ext_anp'\n",
    "bq_table = 'grupos_empresariais'"
   ]
  },
  {
   "cell_type": "code",
   "execution_count": 30,
   "id": "002fb91e",
   "metadata": {},
   "outputs": [],
   "source": [
    "\"\"\"\n",
    "\n",
    "\"\"\"\n",
    "storage_client = storage.Client()\n",
    "bucket = storage_client.bucket(bucket_name)\n",
    "blob = bucket.blob(blob_name)\n",
    "data = blob.download_as_bytes()\n"
   ]
  },
  {
   "cell_type": "code",
   "execution_count": 31,
   "id": "1e7d1ba1",
   "metadata": {},
   "outputs": [],
   "source": [
    "# Read Excel data into DataFrame\n",
    "df = pd.read_excel(io.BytesIO(data))"
   ]
  },
  {
   "cell_type": "code",
   "execution_count": 32,
   "id": "042632ad",
   "metadata": {},
   "outputs": [
    {
     "name": "stderr",
     "output_type": "stream",
     "text": [
      "/home/fnascime/labs_vibra/pipeline_extracts/.venv/lib/python3.12/site-packages/google/cloud/bigquery/_pandas_helpers.py:489: FutureWarning: Loading pandas DataFrame into BigQuery will require pandas-gbq package version 0.26.1 or greater in the future. Tried to import pandas-gbq and got: No module named 'pandas_gbq'\n",
      "  warnings.warn(\n"
     ]
    },
    {
     "data": {
      "text/plain": [
       "LoadJob<project=named-embassy-456813-f3, location=US, id=f6c15a39-15db-4b3a-9a02-c0767932be1c>"
      ]
     },
     "execution_count": 32,
     "metadata": {},
     "output_type": "execute_result"
    }
   ],
   "source": [
    "# Insert data into BigQuery\n",
    "bq_client = bigquery.Client()\n",
    "table_id = f\"{bq_client.project}.{bq_dataset}.{bq_table}\"\n",
    "job = bq_client.load_table_from_dataframe(df, table_id)\n",
    "job.result()\n"
   ]
  }
 ],
 "metadata": {
  "kernelspec": {
   "display_name": ".venv",
   "language": "python",
   "name": "python3"
  },
  "language_info": {
   "codemirror_mode": {
    "name": "ipython",
    "version": 3
   },
   "file_extension": ".py",
   "mimetype": "text/x-python",
   "name": "python",
   "nbconvert_exporter": "python",
   "pygments_lexer": "ipython3",
   "version": "3.12.3"
  }
 },
 "nbformat": 4,
 "nbformat_minor": 5
}
