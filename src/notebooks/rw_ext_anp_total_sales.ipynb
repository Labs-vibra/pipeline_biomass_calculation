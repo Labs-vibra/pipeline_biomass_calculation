{
 "cells": [
  {
   "cell_type": "markdown",
   "id": "f183b461",
   "metadata": {},
   "source": [
    "# Total Sales Pipeline\n",
    "Raw layer from \"Venda Total\" pipeline"
   ]
  },
  {
   "cell_type": "code",
   "execution_count": 13,
   "id": "8bd09266",
   "metadata": {},
   "outputs": [
    {
     "data": {
      "text/plain": [
       "True"
      ]
     },
     "execution_count": 13,
     "metadata": {},
     "output_type": "execute_result"
    }
   ],
   "source": [
    "from bs4 import BeautifulSoup\n",
    "from io import BytesIO\n",
    "from google.cloud import bigquery\n",
    "import re\n",
    "import os\n",
    "import requests\n",
    "import zipfile\n",
    "import pandas as pd\n"
   ]
  },
  {
   "cell_type": "code",
   "execution_count": 14,
   "id": "92422cc3",
   "metadata": {
    "tags": [
     "parameters"
    ]
   },
   "outputs": [],
   "source": [
    "\"\"\"\n",
    "Constants for the ANP Fuel Price Scraper\n",
    "\"\"\"\n",
    "\n",
    "BASE_URL = \"https://www.gov.br/anp/pt-br/centrais-de-conteudo/paineis-dinamicos-da-anp/paineis-dinamicos-do-abastecimento/painel-dinamico-do-mercado-brasileiro-de-combustiveis-liquidos\"\n",
    "start_date = pd.to_datetime(\"2023-01-01\")\n",
    "end_date = pd.to_datetime(\"2023-01-31\")"
   ]
  },
  {
   "cell_type": "code",
   "execution_count": 15,
   "id": "24363115",
   "metadata": {},
   "outputs": [
    {
     "name": "stderr",
     "output_type": "stream",
     "text": [
      "/Users/dwbessa/projects/vibra/pipeline_biomass_calculation/.venv/lib/python3.13/site-packages/urllib3/connectionpool.py:1097: InsecureRequestWarning: Unverified HTTPS request is being made to host 'www.gov.br'. Adding certificate verification is strongly advised. See: https://urllib3.readthedocs.io/en/latest/advanced-usage.html#tls-warnings\n",
      "  warnings.warn(\n",
      "/Users/dwbessa/projects/vibra/pipeline_biomass_calculation/.venv/lib/python3.13/site-packages/urllib3/connectionpool.py:1097: InsecureRequestWarning: Unverified HTTPS request is being made to host 'www.gov.br'. Adding certificate verification is strongly advised. See: https://urllib3.readthedocs.io/en/latest/advanced-usage.html#tls-warnings\n",
      "  warnings.warn(\n"
     ]
    }
   ],
   "source": [
    "\"\"\"\n",
    "ANP Fuel Price Scraper\n",
    "This script scrapes the ANP website for fuel prices and uploads the data to\n",
    "Google Cloud Storage.\n",
    "\"\"\"\n",
    "\n",
    "response = requests.get(BASE_URL, verify=False)\n",
    "if response.status_code == 200:\n",
    "    page = BeautifulSoup(response.content, \"html.parser\")\n",
    "else:\n",
    "    raise Exception(\"Failed to retrieve data from the URL.\")\n",
    "\n",
    "pattern = re.compile(r\"Clique\\s+aqu.*Líquidos\", re.IGNORECASE)\n",
    "a_tag = page.find('a', string=pattern)\n",
    "panel = None\n",
    "if a_tag and 'href' in a_tag.attrs:\n",
    "    panel_link = a_tag['href']\n",
    "    panel_text = a_tag.get_text(strip=True)\n",
    "    panel = {'text': panel_text, 'link': panel_link}\n",
    "else:\n",
    "    panel = None\n",
    "\n",
    "data = None\n",
    "data_link = page.find('a', string='Veja também a base de dados utilizada no painel')\n",
    "if data_link and 'href' in data_link.attrs:\n",
    "    link = data_link['href']\n",
    "    text = data_link.get_text(strip=True)\n",
    "    updated_data = data_link.next_sibling\n",
    "    if updated_data:\n",
    "        li_text = updated_data.get_text(strip=True).split(\"em \")[1][0:-1].strip()\n",
    "    else:\n",
    "        li_text = \"Data não disponível\"\n",
    "    data = {'text': text, 'link': link, 'updated_date': li_text}\n",
    "else:\n",
    "    data = None\n",
    "\n",
    "if data and data.get('link'):\n",
    "    download_link = data.get('link')\n",
    "\n",
    "    gcs_base_path = \"general_sales\"\n",
    "    final_path = \"/general_sales.zip\"\n",
    "    gcs_path = f\"/{gcs_base_path}{final_path}\"\n",
    "\n",
    "    response = requests.get(download_link, verify=False)\n",
    "    response.raise_for_status()\n",
    "    zip_bytes = BytesIO(response.content)\n"
   ]
  },
  {
   "cell_type": "code",
   "execution_count": 16,
   "id": "4aa6b03e",
   "metadata": {},
   "outputs": [],
   "source": [
    "\"\"\"\n",
    "Extracts the general sales data from a zip file in Google Cloud Storage,\n",
    "\"\"\"\n",
    "\n",
    "with zipfile.ZipFile(zip_bytes) as zf:\n",
    "\tfor file_info in zf.infolist():\n",
    "\t\twith zf.open(file_info) as file:\n",
    "\t\t\tfile_name = file_info.filename\n",
    "\t\t\tif file_info.filename == \"Liquidos_Vendas_Atual.csv\":\n",
    "\t\t\t\tdf = pd.read_csv(file, sep=\";\", encoding=\"latin1\")\n",
    "\t\t\t\tbreak\n",
    "\n",
    "\n",
    "df = df.rename(columns={\n",
    "\t\"Ano\": \"year\",\n",
    "\t\"Mês\": \"month\",\n",
    "\t\"Agente Regulado\": \"company_name\",\n",
    "\t\"Código do Produto\": \"product_code\",\n",
    "\t\"Nome do Produto\": \"product_name\",\n",
    "\t\"Descrição do Produto\": \"product\",\n",
    "\t\"Região Origem\": \"origin_region\",\n",
    "\t\"UF Origem\": \"origin_state\",\n",
    "\t\"Região Destinatário\": \"destination_region\",\n",
    "\t\"UF Destino\": \"destination_state\",\n",
    "\t\"Mercado Destinatário\": \"target_market\",\n",
    "\t\"Quantidade de Produto (mil m³)\": \"volume_1000m3\",\n",
    "\n",
    "})"
   ]
  },
  {
   "cell_type": "code",
   "execution_count": 17,
   "id": "4e9c2a2a",
   "metadata": {},
   "outputs": [
    {
     "name": "stdout",
     "output_type": "stream",
     "text": [
      "Months available in the dictionary: dict_keys([1])\n"
     ]
    }
   ],
   "source": [
    "\"\"\"\n",
    "    this code removes unused years from the dataframe,\n",
    "    filters the dataframe by start and end date,\n",
    "    drops the year and product_code columns,\n",
    "    converts the year, month, and day into a date column,\n",
    "    get all datas to insert into BigQuery\n",
    "    iterate over the dataframe and append the data to the corresponding month datafram\n",
    "    create a hashmap to store the dataframes for each month\n",
    "\"\"\"\n",
    "\n",
    "remove_years = [2022, 2021, 2020, 2019, 2018, 2017]\n",
    "df = df[~df['year'].isin(remove_years)].copy()\n",
    "df['date'] = pd.to_datetime(dict(year=df['year'], month=df['month'], day=1)).astype('datetime64[us]')\n",
    "\n",
    "filter_by_start_and_end_date = (df['date'] >= start_date) & (df['date'] <= end_date)\n",
    "df = df[filter_by_start_and_end_date]\n",
    "df = df.drop(columns=['year', 'product_code'])\n",
    "df_by_month = {month: month_df.drop(columns='month') for month, month_df in df.groupby('month')}\n",
    "print(\"Months available in the dictionary:\", df_by_month.keys())\n",
    "\n",
    "df['date'] = pd.to_datetime(df['date']).dt.date\n",
    "for month, month_df in df_by_month.items():\n",
    "    df_by_month[month]['date'] = pd.to_datetime(month_df['date']).dt.date\n"
   ]
  },
  {
   "cell_type": "code",
   "execution_count": 18,
   "id": "56dd62fe",
   "metadata": {},
   "outputs": [
    {
     "name": "stdout",
     "output_type": "stream",
     "text": [
      "Inserting data for partition: 202301\n",
      "Data for 202301 inserted successfully.\n"
     ]
    }
   ],
   "source": [
    "\"\"\"\n",
    "Inserting data into BigQuery\n",
    "\"\"\"\n",
    "\n",
    "bq_client = bigquery.Client()\n",
    "project_id = os.getenv(\"GOOGLE_PROJECT_ID\")\n",
    "bq_dataset = \"rw_ext_anp\"\n",
    "table_name = \"rw_ext_anp_total_sales\"\n",
    "table_id = f\"{project_id}.{bq_dataset}.{table_name}\"\n",
    "\n",
    "job_config = bigquery.LoadJobConfig(\n",
    "    write_disposition=bigquery.WriteDisposition.WRITE_TRUNCATE,\n",
    ")\n",
    "\n",
    "job = bq_client.load_table_from_dataframe(\n",
    "    df, table_id, job_config=job_config\n",
    ")\n",
    "\n",
    "job.result()\n",
    "for month, monthly_df in df_by_month.items():\n",
    "    year = monthly_df['date'].iloc[0].year\n",
    "    month_num = monthly_df['date'].iloc[0].month\n",
    "    partition_key = f\"{year}{month_num:02d}\"\n",
    "\n",
    "    print(f\"Inserting data for partition: {partition_key}\")\n",
    "    job = bq_client.load_table_from_dataframe(\n",
    "        monthly_df, f\"{table_id}${partition_key}\", job_config=job_config\n",
    "    )\n",
    "    job.result()\n",
    "    print(f\"Data for {partition_key} inserted successfully.\")"
   ]
  }
 ],
 "metadata": {
  "kernelspec": {
   "display_name": "biomass-calc-automation-notebooks",
   "language": "python",
   "name": "python3"
  },
  "language_info": {
   "codemirror_mode": {
    "name": "ipython",
    "version": 3
   },
   "file_extension": ".py",
   "mimetype": "text/x-python",
   "name": "python",
   "nbconvert_exporter": "python",
   "pygments_lexer": "ipython3",
   "version": "3.13.2"
  }
 },
 "nbformat": 4,
 "nbformat_minor": 5
}
