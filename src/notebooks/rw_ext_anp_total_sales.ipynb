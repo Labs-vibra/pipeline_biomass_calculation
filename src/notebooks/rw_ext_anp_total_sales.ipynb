{
 "cells": [
  {
   "cell_type": "markdown",
   "id": "f183b461",
   "metadata": {},
   "source": [
    "# Total Sales Pipeline\n",
    "Raw layer from \"Venda Total\" pipeline"
   ]
  },
  {
   "cell_type": "code",
   "execution_count": 18,
   "id": "8bd09266",
   "metadata": {},
   "outputs": [],
   "source": [
    "from bs4 import BeautifulSoup\n",
    "from io import BytesIO\n",
    "from google.cloud import bigquery\n",
    "import re\n",
    "import os\n",
    "import requests\n",
    "import zipfile\n",
    "import pandas as pd\n"
   ]
  },
  {
   "cell_type": "code",
   "execution_count": null,
   "id": "92422cc3",
   "metadata": {
    "tags": [
     "parameters"
    ]
   },
   "outputs": [],
   "source": [
    "\"\"\"\n",
    "Constants for the ANP Fuel Price Scraper\n",
    "\"\"\"\n",
    "\n",
    "BASE_URL = \"https://www.gov.br/anp/pt-br/centrais-de-conteudo/paineis-dinamicos-da-anp/paineis-dinamicos-do-abastecimento/painel-dinamico-do-mercado-brasileiro-de-combustiveis-liquidos\""
   ]
  },
  {
   "cell_type": "code",
   "execution_count": 20,
   "id": "24363115",
   "metadata": {},
   "outputs": [
    {
     "name": "stderr",
     "output_type": "stream",
     "text": [
      "/home/fnascime/labs_vibra/pipeline_extracts/.venv/lib/python3.12/site-packages/urllib3/connectionpool.py:1097: InsecureRequestWarning: Unverified HTTPS request is being made to host 'www.gov.br'. Adding certificate verification is strongly advised. See: https://urllib3.readthedocs.io/en/latest/advanced-usage.html#tls-warnings\n",
      "  warnings.warn(\n",
      "/home/fnascime/labs_vibra/pipeline_extracts/.venv/lib/python3.12/site-packages/urllib3/connectionpool.py:1097: InsecureRequestWarning: Unverified HTTPS request is being made to host 'www.gov.br'. Adding certificate verification is strongly advised. See: https://urllib3.readthedocs.io/en/latest/advanced-usage.html#tls-warnings\n",
      "  warnings.warn(\n"
     ]
    }
   ],
   "source": [
    "\"\"\"\n",
    "ANP Fuel Price Scraper\n",
    "This script scrapes the ANP website for fuel prices and uploads the data to\n",
    "Google Cloud Storage.\n",
    "\"\"\"\n",
    "\n",
    "response = requests.get(BASE_URL, verify=False)\n",
    "if response.status_code == 200:\n",
    "    page = BeautifulSoup(response.content, \"html.parser\")\n",
    "else:\n",
    "    raise Exception(\"Failed to retrieve data from the URL.\")\n",
    "\n",
    "pattern = re.compile(r\"Clique\\s+aqu.*Líquidos\", re.IGNORECASE)\n",
    "a_tag = page.find('a', string=pattern)\n",
    "panel = None\n",
    "if a_tag and 'href' in a_tag.attrs:\n",
    "    panel_link = a_tag['href']\n",
    "    panel_text = a_tag.get_text(strip=True)\n",
    "    panel = {'text': panel_text, 'link': panel_link}\n",
    "else:\n",
    "    panel = None\n",
    "\n",
    "data = None\n",
    "data_link = page.find('a', string='Veja também a base de dados utilizada no painel')\n",
    "if data_link and 'href' in data_link.attrs:\n",
    "    link = data_link['href']\n",
    "    text = data_link.get_text(strip=True)\n",
    "    updated_data = data_link.next_sibling\n",
    "    if updated_data:\n",
    "        li_text = updated_data.get_text(strip=True).split(\"em \")[1][0:-1].strip()\n",
    "    else:\n",
    "        li_text = \"Data não disponível\"\n",
    "    data = {'text': text, 'link': link, 'updated_date': li_text}\n",
    "else:\n",
    "    data = None\n",
    "\n",
    "if data and data.get('link'):\n",
    "    download_link = data.get('link')\n",
    "\n",
    "    gcs_base_path = \"general_sales\"\n",
    "    final_path = \"/general_sales.zip\"\n",
    "    gcs_path = f\"/{gcs_base_path}{final_path}\"\n",
    "\n",
    "    response = requests.get(download_link, verify=False)\n",
    "    response.raise_for_status()\n",
    "    zip_bytes = BytesIO(response.content)\n"
   ]
  },
  {
   "cell_type": "code",
   "execution_count": null,
   "id": "4aa6b03e",
   "metadata": {},
   "outputs": [],
   "source": [
    "\"\"\"\n",
    "Extracts the general sales data from a zip file in Google Cloud Storage,\n",
    "\"\"\"\n",
    "\n",
    "with zipfile.ZipFile(zip_bytes) as zf:\n",
    "\tfor file_info in zf.infolist():\n",
    "\t\twith zf.open(file_info) as file:\n",
    "\t\t\tfile_name = file_info.filename\n",
    "\t\t\tif file_info.filename == \"Liquidos_Vendas_Atual.csv\":\n",
    "\t\t\t\tdf = pd.read_csv(file, sep=\";\", encoding=\"latin1\")\n",
    "\t\t\t\tbreak\n",
    "\n",
    "\n",
    "df = df.rename(columns={\n",
    "\t\"Ano\": \"ano\",\n",
    "\t\"Mês\": \"mes\",\n",
    "\t\"Agente Regulado\": \"agente_regulado\",\n",
    "\t\"Código do Produto\": \"codigo_do_produto\",\n",
    "\t\"Nome do Produto\": \"nome_do_produto\",\n",
    "\t\"Descrição do Produto\": \"descricao_do_produto\",\n",
    "\t\"Região Origem\": \"regiao_origem\",\n",
    "\t\"UF Origem\": \"uf_origem\",\n",
    "\t\"Região Destinatário\": \"regiao_destinatario\",\n",
    "\t\"UF Destino\": \"uf_destino\",\n",
    "\t\"Mercado Destinatário\": \"mercado_destinatario\",\n",
    "\t\"Quantidade de Produto (mil m³)\": \"quantidade_de_produto_mil_m3\",\n",
    "})"
   ]
  },
  {
   "cell_type": "code",
   "execution_count": 22,
   "id": "4e9c2a2a",
   "metadata": {},
   "outputs": [],
   "source": [
    "\"\"\"\n",
    "    this code removes unused years from the dataframe,\n",
    "    filters the dataframe by start and end date,\n",
    "    drops the year and product_code columns,\n",
    "    converts the year, month, and day into a date column,\n",
    "    get all datas to insert into BigQuery\n",
    "    iterate over the dataframe and append the data to the corresponding month datafram\n",
    "    create a hashmap to store the dataframes for each month\n",
    "\"\"\"\n",
    "\n",
    "df['data_venda'] = pd.to_datetime(dict(year=df['ano'], month=df['mes'], day=1)).astype('datetime64[us]')\n",
    "df = df.drop(columns=['mes', 'ano'])\n",
    "\n",
    "df['data_venda'] = pd.to_datetime(df['data_venda']).dt.date\n",
    "\n",
    "df['data_criacao'] = pd.Timestamp.now(tz='America/Sao_Paulo')\n",
    "df['quantidade_de_produto_mil_m3'] = df['quantidade_de_produto_mil_m3'].astype(str).str.replace(',', '.').astype('float64')"
   ]
  },
  {
   "cell_type": "code",
   "execution_count": null,
   "id": "56dd62fe",
   "metadata": {},
   "outputs": [
    {
     "name": "stderr",
     "output_type": "stream",
     "text": [
      "/home/fnascime/labs_vibra/pipeline_extracts/.venv/lib/python3.12/site-packages/google/cloud/bigquery/_pandas_helpers.py:489: FutureWarning: Loading pandas DataFrame into BigQuery will require pandas-gbq package version 0.26.1 or greater in the future. Tried to import pandas-gbq and got: No module named 'pandas_gbq'\n",
      "  warnings.warn(\n"
     ]
    },
    {
     "name": "stdout",
     "output_type": "stream",
     "text": [
      "  Data for labs-vibra-final.rw_ext_anp.venda_total inserted successfully.\n",
      "Data insertion completed!\n"
     ]
    }
   ],
   "source": [
    "\"\"\"\n",
    "Inserting data into BigQuery\n",
    "\"\"\"\n",
    "\n",
    "bq_client = bigquery.Client()\n",
    "project_id = os.getenv(\"GOOGLE_CLOUD_PROJECT\")\n",
    "bq_dataset = \"rw_ext_anp\"\n",
    "table_name = \"venda_total\"\n",
    "table_id = f\"{project_id}.{bq_dataset}.{table_name}\"\n",
    "\n",
    "job_config = bigquery.LoadJobConfig(\n",
    "    write_disposition=bigquery.WriteDisposition.WRITE_APPEND,\n",
    ")\n",
    "\n",
    "try:\n",
    "    job = bq_client.load_table_from_dataframe(\n",
    "        df, table_id, job_config=job_config\n",
    "    )\n",
    "    job.result()\n",
    "    print(f\"  Data for {table_id} inserted successfully.\")\n",
    "except Exception as e:\n",
    "    print(f\"  Error inserting data for {table_id}: {str(e)}\")\n",
    "\n",
    "print(\"Data insertion completed!\")"
   ]
  }
 ],
 "metadata": {
  "kernelspec": {
   "display_name": ".venv",
   "language": "python",
   "name": "python3"
  },
  "language_info": {
   "codemirror_mode": {
    "name": "ipython",
    "version": 3
   },
   "file_extension": ".py",
   "mimetype": "text/x-python",
   "name": "python",
   "nbconvert_exporter": "python",
   "pygments_lexer": "ipython3",
   "version": "3.12.3"
  }
 },
 "nbformat": 4,
 "nbformat_minor": 5
}
