{
 "cells": [
  {
   "cell_type": "markdown",
   "id": "f7dcc745",
   "metadata": {},
   "source": [
    "### Códigos de Agentes Regulados\n",
    "Notebook para extração e implementação no Big Query da tabela SIMP"
   ]
  },
  {
   "cell_type": "code",
   "execution_count": 5,
   "id": "25c8f854",
   "metadata": {},
   "outputs": [],
   "source": [
    "from bs4 import BeautifulSoup\n",
    "from io import BytesIO\n",
    "from google.cloud import bigquery\n",
    "import zipfile\n",
    "import re\n",
    "import os\n",
    "import requests\n",
    "import zipfile\n",
    "import pandas as pd"
   ]
  },
  {
   "cell_type": "code",
   "execution_count": 6,
   "id": "662de2be",
   "metadata": {},
   "outputs": [],
   "source": [
    "BASE_URL = \"https://csa.anp.gov.br/downloads/manuais-isimp/Geracao-de-tabelas-ISIMP.zip\""
   ]
  },
  {
   "cell_type": "code",
   "execution_count": 7,
   "id": "068fbe4f",
   "metadata": {},
   "outputs": [
    {
     "name": "stderr",
     "output_type": "stream",
     "text": [
      "/Users/dwbessa/projects/vibra/pipeline_biomass_calculation/.venv/lib/python3.13/site-packages/urllib3/connectionpool.py:1097: InsecureRequestWarning: Unverified HTTPS request is being made to host 'csa.anp.gov.br'. Adding certificate verification is strongly advised. See: https://urllib3.readthedocs.io/en/latest/advanced-usage.html#tls-warnings\n",
      "  warnings.warn(\n"
     ]
    }
   ],
   "source": [
    "response = requests.get(BASE_URL, verify=False)\n",
    "if response.status_code == 200:\n",
    "    pass\n",
    "else:\n",
    "    raise Exception(f\"Failed to download file: {response.status_code}\")\n",
    "\n",
    "with zipfile.ZipFile(BytesIO(response.content)) as z:\n",
    "    with z.open(\"T001-Codigos_agentes_regulados.xlsx\") as excel_file:\n",
    "        df = pd.read_excel(excel_file, header=1)\n",
    "df = df.rename(columns={\n",
    "    \"Raiz CNPJ\": \"agnt_num_base_cnpj\",\n",
    "    \"Razão Social\": \"agnt_nom_razao_social\",\n",
    "})\n",
    "\n",
    "df[\"agnt_num_base_cnpj\"] = df[\"agnt_num_base_cnpj\"].astype(str).str.zfill(8)\n",
    "\n",
    "df = df[[\"agnt_nom_razao_social\", \"agnt_num_base_cnpj\"]]\n",
    "\n",
    "additional_data = pd.DataFrame({\n",
    "    \"agnt_nom_razao_social\": [\n",
    "        \"ALESAT COMBUSTÍVEIS S. A.\",\n",
    "        \"ASTER PETRÓLEO LTDA.\",\n",
    "        \"AUTO POSTO HAACKE LTDA\",\n",
    "        \"DINAMICA TERMINAIS DE COMBUSTIVEIS E DISTRIBUIDORA S/A\",\n",
    "        \"FLEX DISTRIBUIDORA DE PETRÓLEO LTDA.\",\n",
    "        \"MIDAS DISTRIBUIDORA DE COMBUSTIVEIS LTDA.\",\n",
    "        \"NOROESTE DISTIBUIDORA DE COMBUSTÍVEIS LTDA.\",\n",
    "        \"PETROGOIÁS DISTRIBUIDORA DE PETRÓLEO LTDA.\",\n",
    "        \"PETRORIENTE DISTRIBUIDORA DE COMBUSTÍVEIS LTDA\",\n",
    "        \"PODIUM DISTRIBUIDORA DE PETRÓLEO LTDA.\",\n",
    "        \"REJAILE DISTRIBUIDORA DE PETRÓLEO LTDA\",\n",
    "        \"SETTA COMBUSTÍVEIS S/A.\",\n",
    "        \"START PETROLEO S.A.\",\n",
    "        \"SUL COMBUSTÍVEIS LTDA.\",\n",
    "        \"THEX COMBUSTIVEIS LTDA\"\n",
    "    ],\n",
    "    \"agnt_num_base_cnpj\": [\n",
    "        \"23314594\",\n",
    "        \"02377759\",\n",
    "        \"00134794\",\n",
    "        \"41189488\",\n",
    "        \"10918655\",\n",
    "        \"19700983\",\n",
    "        \"01966325\",\n",
    "        \"05470445\",\n",
    "        \"37020090\",\n",
    "        \"07253302\",\n",
    "        \"00209895\",\n",
    "        \"55483564\",\n",
    "        \"39334434\",\n",
    "        \"06278750\",\n",
    "        \"39476085\"\n",
    "    ]\n",
    "})\n",
    "\n",
    "df = pd.concat([df, additional_data], ignore_index=True)"
   ]
  },
  {
   "cell_type": "code",
   "execution_count": 8,
   "id": "7ac27563",
   "metadata": {},
   "outputs": [
    {
     "name": "stdout",
     "output_type": "stream",
     "text": [
      "  Data for labs-vibra-final.rf_ext_anp.cnpj_agentes inserted successfully.\n",
      "Data insertion completed!\n"
     ]
    }
   ],
   "source": [
    "\"\"\"\n",
    "Inserting data into BigQuery\n",
    "\"\"\"\n",
    "bq_client = bigquery.Client()\n",
    "project_id = os.getenv(\"GOOGLE_CLOUD_PROJECT\")\n",
    "bq_dataset = \"rf_ext_anp\"\n",
    "table_name = \"cnpj_agentes\"\n",
    "table_id = f\"{project_id}.{bq_dataset}.{table_name}\"\n",
    "\n",
    "job_config = bigquery.LoadJobConfig(\n",
    "    write_disposition=bigquery.WriteDisposition.WRITE_TRUNCATE,\n",
    ")\n",
    "\n",
    "try:\n",
    "    job = bq_client.load_table_from_dataframe(\n",
    "        df, table_id, job_config=job_config\n",
    "    )\n",
    "    job.result()\n",
    "    print(f\"  Data for {table_id} inserted successfully.\")\n",
    "except Exception as e:\n",
    "    print(f\"  Error inserting data for {table_id}: {str(e)}\")\n",
    "\n",
    "print(\"Data insertion completed!\")"
   ]
  }
 ],
 "metadata": {
  "kernelspec": {
   "display_name": "pipeline-biomass-calculation",
   "language": "python",
   "name": "python3"
  },
  "language_info": {
   "codemirror_mode": {
    "name": "ipython",
    "version": 3
   },
   "file_extension": ".py",
   "mimetype": "text/x-python",
   "name": "python",
   "nbconvert_exporter": "python",
   "pygments_lexer": "ipython3",
   "version": "3.13.2"
  }
 },
 "nbformat": 4,
 "nbformat_minor": 5
}
